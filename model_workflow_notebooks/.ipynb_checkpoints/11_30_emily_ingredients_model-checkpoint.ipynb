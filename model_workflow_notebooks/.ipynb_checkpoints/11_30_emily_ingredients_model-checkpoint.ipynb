{
 "cells": [
  {
   "cell_type": "markdown",
   "metadata": {
    "id": "8NUnxMaFp392"
   },
   "source": [
    "Based on tutorial from https://towardsdatascience.com/pre-trained-word-embedding-for-text-classification-end2end-approach-5fbf5cd8aead"
   ]
  },
  {
   "cell_type": "code",
   "execution_count": 1,
   "metadata": {
    "id": "36rS5hUZp395"
   },
   "outputs": [],
   "source": [
    "import pickle\n",
    "import numpy as np\n",
    "import pandas\n",
    "from sklearn.model_selection import train_test_split"
   ]
  },
  {
   "cell_type": "code",
   "execution_count": 2,
   "metadata": {
    "colab": {
     "base_uri": "https://localhost:8080/"
    },
    "id": "wxLNTawN0KVa",
    "outputId": "64cf9659-5f83-49eb-8032-822573a2b07a"
   },
   "outputs": [
    {
     "name": "stdout",
     "output_type": "stream",
     "text": [
      "Mounted at /content/drive\n",
      "/content/drive/My Drive/dis study abroad/Artificial Neural Networks\n"
     ]
    }
   ],
   "source": [
    "from google.colab import drive\n",
    "drive.mount('/content/drive', force_remount=True)\n",
    "%cd \"/content/drive/My Drive/dis study abroad/Artificial Neural Networks\"\n"
   ]
  },
  {
   "cell_type": "code",
   "execution_count": 3,
   "metadata": {
    "colab": {
     "base_uri": "https://localhost:8080/"
    },
    "id": "cr8ULCp50XVB",
    "outputId": "e990caa6-11ad-4033-b8cb-321608de6b03"
   },
   "outputs": [
    {
     "name": "stdout",
     "output_type": "stream",
     "text": [
      "emily_ingredients_model.ipynb     full_dataset.csv.zip     NLG_cleaning.ipynb\n",
      "flavor_graph.ipynb                ingredients_model.ipynb  nodes_191120.csv\n",
      "FlavorGraph_NodeEmbedding.pickle  ner_embeddings.pkl\n"
     ]
    }
   ],
   "source": [
    "%ls"
   ]
  },
  {
   "cell_type": "code",
   "execution_count": 4,
   "metadata": {
    "id": "Uw77sTa5p396"
   },
   "outputs": [],
   "source": [
    "# open and load data from pickle file\n",
    "file = open('FlavorGraph_NodeEmbedding.pickle', 'rb')\n",
    "\n",
    "# keys are strings for node_id, value is embedding\n",
    "data = pickle.load(file)\n",
    "\n",
    "file.close()"
   ]
  },
  {
   "cell_type": "code",
   "execution_count": 5,
   "metadata": {
    "id": "GyQwK9fvp396"
   },
   "outputs": [],
   "source": [
    "# load dataframe of node_ids and ingredients\n",
    "df = pandas.read_csv('nodes_191120.csv')"
   ]
  },
  {
   "cell_type": "code",
   "execution_count": 6,
   "metadata": {
    "id": "HzHnkg0Lp397"
   },
   "outputs": [],
   "source": [
    "# just get the embeddings for ingredients\n",
    "ing_embeddings = {}\n",
    "\n",
    "for i in range(len(df)):\n",
    "    if df.loc[i, 'node_type'] == \"ingredient\":\n",
    "        # map the name of the ingredient to the embedding\n",
    "        ing_embeddings[df.loc[i, 'name']] = data[str(df.loc[i, 'node_id'])]\n",
    "        \n"
   ]
  },
  {
   "cell_type": "code",
   "execution_count": 7,
   "metadata": {
    "colab": {
     "base_uri": "https://localhost:8080/"
    },
    "id": "QZPrP1Ih18mO",
    "outputId": "fc8640b7-7711-412f-c491-f55c4880e5f7"
   },
   "outputs": [
    {
     "name": "stdout",
     "output_type": "stream",
     "text": [
      "Looking in indexes: https://pypi.org/simple, https://us-python.pkg.dev/colab-wheels/public/simple/\n",
      "Collecting pickle5\n",
      "  Downloading pickle5-0.0.12-cp37-cp37m-manylinux_2_5_x86_64.manylinux1_x86_64.whl (256 kB)\n",
      "\u001b[K     |████████████████████████████████| 256 kB 5.2 MB/s \n",
      "\u001b[?25hInstalling collected packages: pickle5\n",
      "Successfully installed pickle5-0.0.12\n"
     ]
    }
   ],
   "source": [
    "! pip install pickle5\n",
    "import pickle5 as pickle"
   ]
  },
  {
   "cell_type": "code",
   "execution_count": 8,
   "metadata": {
    "id": "w_9rEEf7p397"
   },
   "outputs": [],
   "source": [
    "# open and load data from pickle file\n",
    "ner_embeddings_file = open('ner_embeddings.pkl', 'rb')\n",
    "\n",
    "# keys are strings for node_id, value is embedding\n",
    "ner_embeddings = pickle.load(ner_embeddings_file)\n",
    "\n",
    "ner_embeddings_file.close()"
   ]
  },
  {
   "cell_type": "code",
   "execution_count": 9,
   "metadata": {
    "id": "0e8tc86Tp398"
   },
   "outputs": [],
   "source": [
    "subset= ner_embeddings.sample(n=1000)"
   ]
  },
  {
   "cell_type": "code",
   "execution_count": 10,
   "metadata": {
    "colab": {
     "base_uri": "https://localhost:8080/",
     "height": 936
    },
    "id": "miCVkkYHp398",
    "outputId": "c77ba515-d55b-4ef5-fcb2-59281fb65925"
   },
   "outputs": [
    {
     "data": {
      "text/html": [
       "\n",
       "  <div id=\"df-1b99898f-1620-426d-b4a6-0a526f88b3b3\">\n",
       "    <div class=\"colab-df-container\">\n",
       "      <div>\n",
       "<style scoped>\n",
       "    .dataframe tbody tr th:only-of-type {\n",
       "        vertical-align: middle;\n",
       "    }\n",
       "\n",
       "    .dataframe tbody tr th {\n",
       "        vertical-align: top;\n",
       "    }\n",
       "\n",
       "    .dataframe thead th {\n",
       "        text-align: right;\n",
       "    }\n",
       "</style>\n",
       "<table border=\"1\" class=\"dataframe\">\n",
       "  <thead>\n",
       "    <tr style=\"text-align: right;\">\n",
       "      <th></th>\n",
       "      <th>NER</th>\n",
       "      <th>embeddings</th>\n",
       "      <th>num_ingredients</th>\n",
       "      <th>start_ingredient</th>\n",
       "      <th>embedding_matrix_index_list</th>\n",
       "      <th>start_ingredient_index</th>\n",
       "    </tr>\n",
       "  </thead>\n",
       "  <tbody>\n",
       "    <tr>\n",
       "      <th>530028</th>\n",
       "      <td>[chicken, frozen_broccoli_spear, cream_of_mush...</td>\n",
       "      <td>[[-0.22679155, 0.100118645, 0.10348936, 0.2072...</td>\n",
       "      <td>6</td>\n",
       "      <td>cream_of_mushroom_soup</td>\n",
       "      <td>[1066, 2464, 1596, 3845, 3499, 1015]</td>\n",
       "      <td>1596</td>\n",
       "    </tr>\n",
       "    <tr>\n",
       "      <th>881719</th>\n",
       "      <td>[egg, peanut_butter, sugar, vanilla, milk, unb...</td>\n",
       "      <td>[[0.25692862, 0.08700464, 0.23288268, 0.169938...</td>\n",
       "      <td>6</td>\n",
       "      <td>vanilla</td>\n",
       "      <td>[2052, 4375, 5769, 6206, 3926, 6140]</td>\n",
       "      <td>6206</td>\n",
       "    </tr>\n",
       "    <tr>\n",
       "      <th>996228</th>\n",
       "      <td>[butter, sweet_onion, farmer_cheese, muenster_...</td>\n",
       "      <td>[[-0.4366374, 0.026041824, 0.15680166, 0.11945...</td>\n",
       "      <td>9</td>\n",
       "      <td>muenster_cheese</td>\n",
       "      <td>[727, 5850, 2118, 4028, 1527, 1508, 5228, 3926...</td>\n",
       "      <td>4028</td>\n",
       "    </tr>\n",
       "    <tr>\n",
       "      <th>824109</th>\n",
       "      <td>[ground_beef, salt, tomato_soup, milk, mozzare...</td>\n",
       "      <td>[[-0.10498587, 0.1431403, 0.041966103, -0.1956...</td>\n",
       "      <td>9</td>\n",
       "      <td>macaroni</td>\n",
       "      <td>[2864, 5228, 6040, 3926, 4023, 4175, 4417, 374...</td>\n",
       "      <td>3749</td>\n",
       "    </tr>\n",
       "    <tr>\n",
       "      <th>260373</th>\n",
       "      <td>[oil, egg, sugar, flour, baking_soda, baking_p...</td>\n",
       "      <td>[[-0.113179356, -0.10267937, -0.19532534, -0.0...</td>\n",
       "      <td>9</td>\n",
       "      <td>baking_soda</td>\n",
       "      <td>[4155, 2052, 5769, 2242, 277, 276, 4401, 148, ...</td>\n",
       "      <td>277</td>\n",
       "    </tr>\n",
       "    <tr>\n",
       "      <th>...</th>\n",
       "      <td>...</td>\n",
       "      <td>...</td>\n",
       "      <td>...</td>\n",
       "      <td>...</td>\n",
       "      <td>...</td>\n",
       "      <td>...</td>\n",
       "    </tr>\n",
       "    <tr>\n",
       "      <th>1806231</th>\n",
       "      <td>[pine_nut, olive_oil, balsamic_vinegar, lemon_...</td>\n",
       "      <td>[[-0.022968607, -0.17425817, 0.041393567, -0.2...</td>\n",
       "      <td>6</td>\n",
       "      <td>lemon_juice</td>\n",
       "      <td>[4518, 4171, 281, 3499, 5371, 5228]</td>\n",
       "      <td>3499</td>\n",
       "    </tr>\n",
       "    <tr>\n",
       "      <th>1207197</th>\n",
       "      <td>[quinoa, olive_oil, olive_oil, black_bean, cor...</td>\n",
       "      <td>[[-0.0034792803, 0.17953567, 0.10123219, -0.33...</td>\n",
       "      <td>12</td>\n",
       "      <td>corn</td>\n",
       "      <td>[4830, 4171, 4171, 440, 1500, 4915, 4417, 2309...</td>\n",
       "      <td>1500</td>\n",
       "    </tr>\n",
       "    <tr>\n",
       "      <th>994391</th>\n",
       "      <td>[chicken, chicken, tomato_sauce, red_wine_vine...</td>\n",
       "      <td>[[-0.22679155, 0.100118645, 0.10348936, 0.2072...</td>\n",
       "      <td>18</td>\n",
       "      <td>red_pepper</td>\n",
       "      <td>[1066, 1066, 6039, 4989, 4918, 156, 5601, 3479...</td>\n",
       "      <td>4963</td>\n",
       "    </tr>\n",
       "    <tr>\n",
       "      <th>497440</th>\n",
       "      <td>[okra, pepper, garlic, white_vinegar, salt, ce...</td>\n",
       "      <td>[[0.15744048, -0.18594559, -0.41463867, 0.2232...</td>\n",
       "      <td>6</td>\n",
       "      <td>okra</td>\n",
       "      <td>[4161, 4417, 2611, 6479, 5228, 974]</td>\n",
       "      <td>4161</td>\n",
       "    </tr>\n",
       "    <tr>\n",
       "      <th>203669</th>\n",
       "      <td>[onion, milk, egg, vegetable_oil, flour, cornm...</td>\n",
       "      <td>[[-0.10557762, -0.2779096, 0.0057796896, 0.011...</td>\n",
       "      <td>9</td>\n",
       "      <td>milk</td>\n",
       "      <td>[4175, 3926, 2052, 6286, 2242, 1527, 5228, 441...</td>\n",
       "      <td>3926</td>\n",
       "    </tr>\n",
       "  </tbody>\n",
       "</table>\n",
       "<p>1000 rows × 6 columns</p>\n",
       "</div>\n",
       "      <button class=\"colab-df-convert\" onclick=\"convertToInteractive('df-1b99898f-1620-426d-b4a6-0a526f88b3b3')\"\n",
       "              title=\"Convert this dataframe to an interactive table.\"\n",
       "              style=\"display:none;\">\n",
       "        \n",
       "  <svg xmlns=\"http://www.w3.org/2000/svg\" height=\"24px\"viewBox=\"0 0 24 24\"\n",
       "       width=\"24px\">\n",
       "    <path d=\"M0 0h24v24H0V0z\" fill=\"none\"/>\n",
       "    <path d=\"M18.56 5.44l.94 2.06.94-2.06 2.06-.94-2.06-.94-.94-2.06-.94 2.06-2.06.94zm-11 1L8.5 8.5l.94-2.06 2.06-.94-2.06-.94L8.5 2.5l-.94 2.06-2.06.94zm10 10l.94 2.06.94-2.06 2.06-.94-2.06-.94-.94-2.06-.94 2.06-2.06.94z\"/><path d=\"M17.41 7.96l-1.37-1.37c-.4-.4-.92-.59-1.43-.59-.52 0-1.04.2-1.43.59L10.3 9.45l-7.72 7.72c-.78.78-.78 2.05 0 2.83L4 21.41c.39.39.9.59 1.41.59.51 0 1.02-.2 1.41-.59l7.78-7.78 2.81-2.81c.8-.78.8-2.07 0-2.86zM5.41 20L4 18.59l7.72-7.72 1.47 1.35L5.41 20z\"/>\n",
       "  </svg>\n",
       "      </button>\n",
       "      \n",
       "  <style>\n",
       "    .colab-df-container {\n",
       "      display:flex;\n",
       "      flex-wrap:wrap;\n",
       "      gap: 12px;\n",
       "    }\n",
       "\n",
       "    .colab-df-convert {\n",
       "      background-color: #E8F0FE;\n",
       "      border: none;\n",
       "      border-radius: 50%;\n",
       "      cursor: pointer;\n",
       "      display: none;\n",
       "      fill: #1967D2;\n",
       "      height: 32px;\n",
       "      padding: 0 0 0 0;\n",
       "      width: 32px;\n",
       "    }\n",
       "\n",
       "    .colab-df-convert:hover {\n",
       "      background-color: #E2EBFA;\n",
       "      box-shadow: 0px 1px 2px rgba(60, 64, 67, 0.3), 0px 1px 3px 1px rgba(60, 64, 67, 0.15);\n",
       "      fill: #174EA6;\n",
       "    }\n",
       "\n",
       "    [theme=dark] .colab-df-convert {\n",
       "      background-color: #3B4455;\n",
       "      fill: #D2E3FC;\n",
       "    }\n",
       "\n",
       "    [theme=dark] .colab-df-convert:hover {\n",
       "      background-color: #434B5C;\n",
       "      box-shadow: 0px 1px 3px 1px rgba(0, 0, 0, 0.15);\n",
       "      filter: drop-shadow(0px 1px 2px rgba(0, 0, 0, 0.3));\n",
       "      fill: #FFFFFF;\n",
       "    }\n",
       "  </style>\n",
       "\n",
       "      <script>\n",
       "        const buttonEl =\n",
       "          document.querySelector('#df-1b99898f-1620-426d-b4a6-0a526f88b3b3 button.colab-df-convert');\n",
       "        buttonEl.style.display =\n",
       "          google.colab.kernel.accessAllowed ? 'block' : 'none';\n",
       "\n",
       "        async function convertToInteractive(key) {\n",
       "          const element = document.querySelector('#df-1b99898f-1620-426d-b4a6-0a526f88b3b3');\n",
       "          const dataTable =\n",
       "            await google.colab.kernel.invokeFunction('convertToInteractive',\n",
       "                                                     [key], {});\n",
       "          if (!dataTable) return;\n",
       "\n",
       "          const docLinkHtml = 'Like what you see? Visit the ' +\n",
       "            '<a target=\"_blank\" href=https://colab.research.google.com/notebooks/data_table.ipynb>data table notebook</a>'\n",
       "            + ' to learn more about interactive tables.';\n",
       "          element.innerHTML = '';\n",
       "          dataTable['output_type'] = 'display_data';\n",
       "          await google.colab.output.renderOutput(dataTable, element);\n",
       "          const docLink = document.createElement('div');\n",
       "          docLink.innerHTML = docLinkHtml;\n",
       "          element.appendChild(docLink);\n",
       "        }\n",
       "      </script>\n",
       "    </div>\n",
       "  </div>\n",
       "  "
      ],
      "text/plain": [
       "                                                       NER  \\\n",
       "530028   [chicken, frozen_broccoli_spear, cream_of_mush...   \n",
       "881719   [egg, peanut_butter, sugar, vanilla, milk, unb...   \n",
       "996228   [butter, sweet_onion, farmer_cheese, muenster_...   \n",
       "824109   [ground_beef, salt, tomato_soup, milk, mozzare...   \n",
       "260373   [oil, egg, sugar, flour, baking_soda, baking_p...   \n",
       "...                                                    ...   \n",
       "1806231  [pine_nut, olive_oil, balsamic_vinegar, lemon_...   \n",
       "1207197  [quinoa, olive_oil, olive_oil, black_bean, cor...   \n",
       "994391   [chicken, chicken, tomato_sauce, red_wine_vine...   \n",
       "497440   [okra, pepper, garlic, white_vinegar, salt, ce...   \n",
       "203669   [onion, milk, egg, vegetable_oil, flour, cornm...   \n",
       "\n",
       "                                                embeddings  num_ingredients  \\\n",
       "530028   [[-0.22679155, 0.100118645, 0.10348936, 0.2072...                6   \n",
       "881719   [[0.25692862, 0.08700464, 0.23288268, 0.169938...                6   \n",
       "996228   [[-0.4366374, 0.026041824, 0.15680166, 0.11945...                9   \n",
       "824109   [[-0.10498587, 0.1431403, 0.041966103, -0.1956...                9   \n",
       "260373   [[-0.113179356, -0.10267937, -0.19532534, -0.0...                9   \n",
       "...                                                    ...              ...   \n",
       "1806231  [[-0.022968607, -0.17425817, 0.041393567, -0.2...                6   \n",
       "1207197  [[-0.0034792803, 0.17953567, 0.10123219, -0.33...               12   \n",
       "994391   [[-0.22679155, 0.100118645, 0.10348936, 0.2072...               18   \n",
       "497440   [[0.15744048, -0.18594559, -0.41463867, 0.2232...                6   \n",
       "203669   [[-0.10557762, -0.2779096, 0.0057796896, 0.011...                9   \n",
       "\n",
       "               start_ingredient  \\\n",
       "530028   cream_of_mushroom_soup   \n",
       "881719                  vanilla   \n",
       "996228          muenster_cheese   \n",
       "824109                 macaroni   \n",
       "260373              baking_soda   \n",
       "...                         ...   \n",
       "1806231             lemon_juice   \n",
       "1207197                    corn   \n",
       "994391               red_pepper   \n",
       "497440                     okra   \n",
       "203669                     milk   \n",
       "\n",
       "                               embedding_matrix_index_list  \\\n",
       "530028                [1066, 2464, 1596, 3845, 3499, 1015]   \n",
       "881719                [2052, 4375, 5769, 6206, 3926, 6140]   \n",
       "996228   [727, 5850, 2118, 4028, 1527, 1508, 5228, 3926...   \n",
       "824109   [2864, 5228, 6040, 3926, 4023, 4175, 4417, 374...   \n",
       "260373   [4155, 2052, 5769, 2242, 277, 276, 4401, 148, ...   \n",
       "...                                                    ...   \n",
       "1806231                [4518, 4171, 281, 3499, 5371, 5228]   \n",
       "1207197  [4830, 4171, 4171, 440, 1500, 4915, 4417, 2309...   \n",
       "994391   [1066, 1066, 6039, 4989, 4918, 156, 5601, 3479...   \n",
       "497440                 [4161, 4417, 2611, 6479, 5228, 974]   \n",
       "203669   [4175, 3926, 2052, 6286, 2242, 1527, 5228, 441...   \n",
       "\n",
       "         start_ingredient_index  \n",
       "530028                     1596  \n",
       "881719                     6206  \n",
       "996228                     4028  \n",
       "824109                     3749  \n",
       "260373                      277  \n",
       "...                         ...  \n",
       "1806231                    3499  \n",
       "1207197                    1500  \n",
       "994391                     4963  \n",
       "497440                     4161  \n",
       "203669                     3926  \n",
       "\n",
       "[1000 rows x 6 columns]"
      ]
     },
     "execution_count": 10,
     "metadata": {},
     "output_type": "execute_result"
    }
   ],
   "source": [
    "subset"
   ]
  },
  {
   "cell_type": "code",
   "execution_count": 11,
   "metadata": {
    "id": "Vax1ILUn4wkg"
   },
   "outputs": [],
   "source": [
    "# # Finally, we pad sequenced data and define predictors and labels. \n",
    "# # We use predictors to guess what is the next word in a sequence and labels \n",
    "# # to correct the model’s predictions.\n",
    "from tensorflow.keras.preprocessing.sequence import pad_sequences\n",
    "# import numpy as np\n",
    "# import tensorflow.keras.utils as ku\n",
    "\n",
    "# # pad sequences\n",
    "# max_sequence_len = max([len(x) for x in input_sequences])\n",
    "# input_sequences = np.array(pad_sequences(input_sequences, maxlen=max_sequence_len, padding='pre'))\n",
    "\n",
    "# # create predictors and label\n",
    "# total_words = len(tokenizer.word_index) + 1\n",
    "# predictors, label = input_sequences[:,:-1],input_sequences[:,-1]\n",
    "# label = ku.to_categorical(label, num_classes=total_words)"
   ]
  },
  {
   "cell_type": "code",
   "execution_count": 12,
   "metadata": {
    "id": "myUUfiX-46Y2"
   },
   "outputs": [],
   "source": [
    "# Train the model\n",
    "from tensorflow.keras.layers import Embedding, LSTM, Dense, Dropout, Bidirectional, Activation\n",
    "from tensorflow.keras.models import Sequential\n",
    "from tensorflow.keras import regularizers\n",
    "import tensorflow as tf"
   ]
  },
  {
   "cell_type": "code",
   "execution_count": 13,
   "metadata": {
    "id": "7-pMo2DaHbuI"
   },
   "outputs": [],
   "source": [
    "EMBEDDING_DIMENSIONS = 300\n",
    "\n",
    "def construct_embedding_matrix(embeddings):\n",
    "    num_ing = len(embeddings)\n",
    "\n",
    "    # initialize a matrix of zeros\n",
    "    embedding_matrix = np.zeros((num_ing, EMBEDDING_DIMENSIONS)) # each embedding has 300 dimensions\n",
    "\n",
    "    next_row = 0\n",
    "\n",
    "    for i in embeddings:\n",
    "        v = embeddings.get(i)\n",
    "        embedding_matrix[next_row] = v\n",
    "        next_row+=1\n",
    "    \n",
    "    return embedding_matrix"
   ]
  },
  {
   "cell_type": "code",
   "execution_count": 14,
   "metadata": {
    "id": "ifGPtME4HiGb"
   },
   "outputs": [],
   "source": [
    "embedding_matrix = construct_embedding_matrix(ing_embeddings)"
   ]
  },
  {
   "cell_type": "code",
   "execution_count": 15,
   "metadata": {
    "colab": {
     "base_uri": "https://localhost:8080/"
    },
    "id": "pn2licdEHjim",
    "outputId": "b4de6d96-6aae-4652-a7ac-966ab8708328"
   },
   "outputs": [
    {
     "data": {
      "text/plain": [
       "array([[-0.10600116,  0.04714949,  0.10841199, ..., -0.03144248,\n",
       "        -0.06629407, -0.1286629 ],\n",
       "       [-0.01582931,  0.09736368, -0.00062261, ..., -0.09226537,\n",
       "        -0.12149926, -0.12204846],\n",
       "       [-0.10132008,  0.03372396,  0.06472784, ..., -0.22692445,\n",
       "        -0.04366636, -0.20344618],\n",
       "       ...,\n",
       "       [-0.19128327,  0.17544127, -0.09963894, ..., -0.20900002,\n",
       "        -0.17799097, -0.1547064 ],\n",
       "       [ 0.02008764,  0.04900858, -0.26409724, ..., -0.19495088,\n",
       "        -0.16633987, -0.21576235],\n",
       "       [ 0.20899913, -0.15171458, -0.25460058, ..., -0.18800448,\n",
       "        -0.08664556, -0.07758268]])"
      ]
     },
     "execution_count": 15,
     "metadata": {},
     "output_type": "execute_result"
    }
   ],
   "source": [
    "embedding_matrix"
   ]
  },
  {
   "cell_type": "code",
   "execution_count": 16,
   "metadata": {
    "id": "r1OULzBQHnO0"
   },
   "outputs": [],
   "source": [
    "from keras import backend as K\n",
    "\n",
    "def recall_m(y_true, y_pred):\n",
    "    true_positives = K.sum(K.round(K.clip(y_true * y_pred, 0, 1)))\n",
    "    possible_positives = K.sum(K.round(K.clip(y_true, 0, 1)))\n",
    "    recall = true_positives / (possible_positives + K.epsilon())\n",
    "    return recall\n",
    "\n",
    "def precision_m(y_true, y_pred):\n",
    "    true_positives = K.sum(K.round(K.clip(y_true * y_pred, 0, 1)))\n",
    "    predicted_positives = K.sum(K.round(K.clip(y_pred, 0, 1)))\n",
    "    precision = true_positives / (predicted_positives + K.epsilon())\n",
    "    return precision\n",
    "\n",
    "def f1_m(y_true, y_pred):\n",
    "    precision = precision_m(y_true, y_pred)\n",
    "    recall = recall_m(y_true, y_pred)\n",
    "    return 2*((precision*recall)/(precision+recall+K.epsilon()))"
   ]
  },
  {
   "cell_type": "code",
   "execution_count": 17,
   "metadata": {
    "id": "C85gOQngHrKr"
   },
   "outputs": [],
   "source": [
    "MAX_SEQUENCE_LENGTH = 20 # this is arbitrary right now\n",
    "\n",
    "from keras.models import Sequential\n",
    "from keras.layers import Embedding,LSTM,Dense,SpatialDropout1D, Dropout, Flatten, Conv1D, MaxPooling1D\n",
    "from keras.initializers import Constant\n",
    "from keras.optimizers import Adam"
   ]
  },
  {
   "cell_type": "code",
   "execution_count": 18,
   "metadata": {
    "id": "eHCWx66PH3uD"
   },
   "outputs": [],
   "source": [
    "# not sure if the first two parameters are what we need vs. training dirrectly on embeddings (since we're trying to use them as weights)\n",
    "x_train, x_val, y_train, y_val= train_test_split(subset['start_ingredient_index'], subset['embedding_matrix_index_list'], test_size= 0.2)"
   ]
  },
  {
   "cell_type": "code",
   "execution_count": 19,
   "metadata": {
    "id": "0MSHKxwXIbTH"
   },
   "outputs": [],
   "source": [
    "#print(type(X_train['start_ingredient']))\n",
    "import numpy as np\n",
    "\n",
    "# x_train_array= np.asarray(x_train).astype('float32')\n",
    "# x_val_array= np.asarray(x_val).astype('float32')\n",
    "\n",
    "x_train = np.asarray(x_train).astype('float32').reshape((-1,1))\n",
    "x_val = np.asarray(x_val).astype('float32').reshape((-1,1))\n",
    "\n",
    "# y_train = np.asarray(y_train).astype('float32').reshape((-1,1))\n",
    "# y_val = np.asarray(y_val).astype('float32').reshape((-1,1))\n",
    "\n",
    "y_train = pad_sequences(y_train, maxlen = MAX_SEQUENCE_LENGTH)\n",
    "y_val = pad_sequences(y_val, maxlen = MAX_SEQUENCE_LENGTH)"
   ]
  },
  {
   "cell_type": "code",
   "execution_count": 20,
   "metadata": {
    "colab": {
     "base_uri": "https://localhost:8080/"
    },
    "id": "0pGRcN8yMSwS",
    "outputId": "6b061c42-8396-475c-fa7f-e8bea80f89c2"
   },
   "outputs": [
    {
     "name": "stdout",
     "output_type": "stream",
     "text": [
      "x_train:  800\n",
      "x_val:  200\n",
      "y_train:  800\n",
      "y_val:  200\n"
     ]
    }
   ],
   "source": [
    "print(\"x_train: \", len(x_train))\n",
    "print(\"x_val: \", len(x_val))\n",
    "print(\"y_train: \", len(y_train))\n",
    "print(\"y_val: \", len(y_val))"
   ]
  },
  {
   "cell_type": "code",
   "execution_count": 21,
   "metadata": {
    "colab": {
     "base_uri": "https://localhost:8080/"
    },
    "id": "VH4Q8M2WMcjb",
    "outputId": "eae97b61-80b1-4255-ebf5-5ddd04bbc821"
   },
   "outputs": [
    {
     "name": "stdout",
     "output_type": "stream",
     "text": [
      "x_train:  [5574.]\n",
      "y_train:  [   0    0    0    0    0    0    0    0    0    0    0    0 5574 3845\n",
      "  505 4420 2380 2374 3479 5284]\n",
      "x_val:  [971.]\n",
      "y_val:  [   0    0    0    0    0    0    0    0 5420 2866 6614 2242 5228  971\n",
      " 4296 3926 2052 6323  974 1185]\n"
     ]
    }
   ],
   "source": [
    "# not sure if these are padded the way we want to? but at least the model fits\n",
    "\n",
    "print('x_train: ', x_train[0])\n",
    "print('y_train: ', y_train[0])\n",
    "print('x_val: ', x_val[0])\n",
    "print('y_val: ', y_val[0])"
   ]
  },
  {
   "cell_type": "code",
   "execution_count": 22,
   "metadata": {
    "colab": {
     "base_uri": "https://localhost:8080/"
    },
    "id": "CJThUeJMQIua",
    "outputId": "e3b22011-26e7-43c5-fe2a-cea2d11820ee"
   },
   "outputs": [
    {
     "data": {
      "text/plain": [
       "20"
      ]
     },
     "execution_count": 22,
     "metadata": {},
     "output_type": "execute_result"
    }
   ],
   "source": [
    "MAX_SEQUENCE_LENGTH"
   ]
  },
  {
   "cell_type": "code",
   "execution_count": 23,
   "metadata": {
    "colab": {
     "base_uri": "https://localhost:8080/"
    },
    "id": "WtyGcAEI498M",
    "outputId": "cbe7c9a5-d848-4d0f-cec8-fb802e8b02b8"
   },
   "outputs": [
    {
     "name": "stdout",
     "output_type": "stream",
     "text": [
      "Epoch 1/20\n",
      "8/8 - 2s - loss: 72436.5938 - accuracy: 0.1175 - val_loss: 68013.0234 - val_accuracy: 0.2000 - 2s/epoch - 212ms/step\n",
      "Epoch 2/20\n",
      "8/8 - 0s - loss: 69031.1484 - accuracy: 0.1600 - val_loss: 65321.4102 - val_accuracy: 0.2450 - 301ms/epoch - 38ms/step\n",
      "Epoch 3/20\n",
      "8/8 - 0s - loss: 66456.1562 - accuracy: 0.1725 - val_loss: 63382.3906 - val_accuracy: 0.2550 - 346ms/epoch - 43ms/step\n",
      "Epoch 4/20\n",
      "8/8 - 0s - loss: 64685.4609 - accuracy: 0.1825 - val_loss: 62124.6719 - val_accuracy: 0.2550 - 295ms/epoch - 37ms/step\n",
      "Epoch 5/20\n",
      "8/8 - 0s - loss: 63620.0234 - accuracy: 0.1887 - val_loss: 61431.0508 - val_accuracy: 0.2550 - 307ms/epoch - 38ms/step\n",
      "Epoch 6/20\n",
      "8/8 - 0s - loss: 63107.8516 - accuracy: 0.1875 - val_loss: 61155.0312 - val_accuracy: 0.2550 - 296ms/epoch - 37ms/step\n",
      "Epoch 7/20\n",
      "8/8 - 0s - loss: 62975.8555 - accuracy: 0.1875 - val_loss: 61095.3594 - val_accuracy: 0.2550 - 383ms/epoch - 48ms/step\n",
      "Epoch 8/20\n",
      "8/8 - 0s - loss: 63045.3438 - accuracy: 0.1813 - val_loss: 61173.2695 - val_accuracy: 0.2200 - 310ms/epoch - 39ms/step\n",
      "Epoch 9/20\n",
      "8/8 - 0s - loss: 63217.2812 - accuracy: 0.1713 - val_loss: 61249.8906 - val_accuracy: 0.2000 - 261ms/epoch - 33ms/step\n",
      "Epoch 10/20\n",
      "8/8 - 0s - loss: 63380.4883 - accuracy: 0.1425 - val_loss: 61360.0508 - val_accuracy: 0.1750 - 345ms/epoch - 43ms/step\n",
      "Epoch 11/20\n",
      "8/8 - 0s - loss: 63527.3789 - accuracy: 0.0950 - val_loss: 61440.1133 - val_accuracy: 0.0950 - 288ms/epoch - 36ms/step\n",
      "Epoch 12/20\n",
      "8/8 - 0s - loss: 63625.0000 - accuracy: 0.0637 - val_loss: 61498.6211 - val_accuracy: 0.0800 - 286ms/epoch - 36ms/step\n",
      "Epoch 13/20\n",
      "8/8 - 0s - loss: 63675.4336 - accuracy: 0.0525 - val_loss: 61524.1016 - val_accuracy: 0.0550 - 305ms/epoch - 38ms/step\n",
      "Epoch 14/20\n",
      "8/8 - 0s - loss: 63686.3398 - accuracy: 0.0500 - val_loss: 61527.7188 - val_accuracy: 0.0350 - 356ms/epoch - 45ms/step\n",
      "Epoch 15/20\n",
      "8/8 - 0s - loss: 63670.4492 - accuracy: 0.0500 - val_loss: 61517.9805 - val_accuracy: 0.0250 - 328ms/epoch - 41ms/step\n",
      "Epoch 16/20\n",
      "8/8 - 0s - loss: 63648.4609 - accuracy: 0.0500 - val_loss: 61506.9766 - val_accuracy: 0.0250 - 338ms/epoch - 42ms/step\n",
      "Epoch 17/20\n",
      "8/8 - 0s - loss: 63612.4453 - accuracy: 0.0500 - val_loss: 61474.5391 - val_accuracy: 0.0250 - 297ms/epoch - 37ms/step\n",
      "Epoch 18/20\n",
      "8/8 - 0s - loss: 63569.5586 - accuracy: 0.0500 - val_loss: 61445.6211 - val_accuracy: 0.0250 - 343ms/epoch - 43ms/step\n",
      "Epoch 19/20\n",
      "8/8 - 0s - loss: 63528.9766 - accuracy: 0.0500 - val_loss: 61417.0312 - val_accuracy: 0.0250 - 345ms/epoch - 43ms/step\n",
      "Epoch 20/20\n",
      "8/8 - 0s - loss: 63492.8594 - accuracy: 0.0500 - val_loss: 61389.3906 - val_accuracy: 0.0250 - 323ms/epoch - 40ms/step\n"
     ]
    }
   ],
   "source": [
    "model=Sequential()\n",
    "embedding = Embedding(len(embedding_matrix),\n",
    "                            EMBEDDING_DIMENSIONS,\n",
    "                            weights=[embedding_matrix],\n",
    "                            input_length=1)\n",
    "model.add(embedding)\n",
    "model.add(Flatten()) # not sure if this is needed\n",
    "# model.add(Dropout(0.2))\n",
    "model.add(Dense(20))\n",
    "model.add(Activation(\"tanh\"))\n",
    "model.add(Dense(20))\n",
    "model.add(Activation(\"softmax\"))\n",
    "\n",
    "# model.add(Dense(MAX_SEQUENCE_LENGTH, activation='softmax'))\n",
    "# model.add(Dense(10))\n",
    "# model.add(Bidirectional(LSTM(150, return_sequences = True)))\n",
    "# model.add(LSTM(128))\n",
    "# model.add(LSTM(64, dropout=0.2, recurrent_dropout=0.5))\n",
    "# model.add(Dense(MAX_SEQUENCE_LENGTH, activation='softmax'))\n",
    "# # compile the model\n",
    "# optimzer = Adam(clipvalue=0.5) # clip value to avoid the gradient exploding\n",
    "\n",
    "# model.compile(optimizer=optimzer, \n",
    "#               loss='categorical_crossentropy', \n",
    "#               metrics=['acc',f1_m,precision_m, recall_m])\n",
    "\n",
    "# fit the model\n",
    "# history = model.fit(predictors, label, epochs=20, verbose=1)\n",
    "optimzer = Adam(clipvalue=0.5) # clip value to avoid the gradient exploding\n",
    "\n",
    "# loss functions:\n",
    "# Sparse cross-entropy addresses this by performing the same cross-entropy calculation of error, without requiring that the target variable be one hot encoded prior to training.\n",
    "\n",
    "# model.compile('rmsprop', 'mse')\n",
    "# output_array = model.predict(x_train)\n",
    "# print(output_array.shape)\n",
    "# assert output_array.shape == (32, 10, 64)\n",
    "\n",
    "model.compile(\n",
    "    loss=\"categorical_crossentropy\", optimizer=optimzer, metrics=[\"accuracy\"]\n",
    ")\n",
    "history = model.fit(x_train, y_train, batch_size=100, epochs=20, validation_data=(x_val, y_val), verbose=2)\n"
   ]
  },
  {
   "cell_type": "code",
   "execution_count": 24,
   "metadata": {
    "colab": {
     "base_uri": "https://localhost:8080/"
    },
    "id": "_m2m4zeTgphG",
    "outputId": "5c961a78-47bd-4a47-ff4a-7dacb5ec64fd"
   },
   "outputs": [
    {
     "name": "stdout",
     "output_type": "stream",
     "text": [
      "7/7 [==============================] - 0s 3ms/step\n",
      "(200, 20)\n"
     ]
    },
    {
     "data": {
      "text/plain": [
       "array([[0.0011322 , 0.00172231, 0.01212135, ..., 0.048947  , 0.09629139,\n",
       "        0.1799517 ],\n",
       "       [0.00106946, 0.00162091, 0.01186688, ..., 0.04831038, 0.09657963,\n",
       "        0.17827915],\n",
       "       [0.00108848, 0.00165179, 0.01194119, ..., 0.0484525 , 0.09660231,\n",
       "        0.17820072],\n",
       "       ...,\n",
       "       [0.00106967, 0.00162125, 0.01186757, ..., 0.04831283, 0.09658513,\n",
       "        0.17829186],\n",
       "       [0.00106946, 0.001621  , 0.01186674, ..., 0.04831028, 0.09657727,\n",
       "        0.17828135],\n",
       "       [0.00106939, 0.00162071, 0.01186655, ..., 0.04830955, 0.09658073,\n",
       "        0.17827591]], dtype=float32)"
      ]
     },
     "execution_count": 24,
     "metadata": {},
     "output_type": "execute_result"
    }
   ],
   "source": [
    "output_array = model.predict(x_val)\n",
    "print(output_array.shape)\n",
    "output_array\n",
    "# it's basically converting the list of 20 ingredient indices into supposed embeddings ... \n",
    "# but the dimensions aren't 300...something is wrong here\n"
   ]
  },
  {
   "cell_type": "code",
   "execution_count": 32,
   "metadata": {
    "colab": {
     "base_uri": "https://localhost:8080/"
    },
    "id": "WP6ZMh4DiE8r",
    "outputId": "09717861-b290-4ef3-cc50-808adfcbc635"
   },
   "outputs": [
    {
     "name": "stdout",
     "output_type": "stream",
     "text": [
      "[971.]\n",
      "[0.0011322  0.00172231 0.01212135 0.0153873  0.01698954 0.01307626\n",
      " 0.00290594 0.0082397  0.04675011 0.00584953 0.01092933 0.01124354\n",
      " 0.20351382 0.03905983 0.07671699 0.08750225 0.12166988 0.048947\n",
      " 0.09629139 0.1799517 ]\n"
     ]
    }
   ],
   "source": [
    "print(x_val[0])\n",
    "print(output_array[0])\n",
    "#6355 is water"
   ]
  },
  {
   "cell_type": "code",
   "execution_count": 26,
   "metadata": {
    "colab": {
     "base_uri": "https://localhost:8080/"
    },
    "id": "elucmHUcnfth",
    "outputId": "726f3d7b-c397-47e6-e934-0e29e3496f09"
   },
   "outputs": [
    {
     "name": "stdout",
     "output_type": "stream",
     "text": [
      "[6355.]\n",
      "[0.00106943 0.00162085 0.0118669  0.01509725 0.01643776 0.01272949\n",
      " 0.00275526 0.00795874 0.04631847 0.00558949 0.01053515 0.01094191\n",
      " 0.20790097 0.03884815 0.0772872  0.08679832 0.12307815 0.04831047\n",
      " 0.09658027 0.17827575]\n"
     ]
    }
   ],
   "source": [
    "print(x_val[100])\n",
    "print(output_array[100])\n",
    "#4633 is pork"
   ]
  },
  {
   "cell_type": "code",
   "execution_count": 27,
   "metadata": {
    "colab": {
     "base_uri": "https://localhost:8080/",
     "height": 971
    },
    "id": "wJbv2aidiqlO",
    "outputId": "753a07d8-b10d-4e8b-bced-f9560c31c866"
   },
   "outputs": [
    {
     "data": {
      "text/html": [
       "\n",
       "  <div id=\"df-998da556-517c-428a-8897-c065d8f60049\">\n",
       "    <div class=\"colab-df-container\">\n",
       "      <div>\n",
       "<style scoped>\n",
       "    .dataframe tbody tr th:only-of-type {\n",
       "        vertical-align: middle;\n",
       "    }\n",
       "\n",
       "    .dataframe tbody tr th {\n",
       "        vertical-align: top;\n",
       "    }\n",
       "\n",
       "    .dataframe thead th {\n",
       "        text-align: right;\n",
       "    }\n",
       "</style>\n",
       "<table border=\"1\" class=\"dataframe\">\n",
       "  <thead>\n",
       "    <tr style=\"text-align: right;\">\n",
       "      <th></th>\n",
       "      <th>NER</th>\n",
       "      <th>embeddings</th>\n",
       "      <th>num_ingredients</th>\n",
       "      <th>start_ingredient</th>\n",
       "      <th>embedding_matrix_index_list</th>\n",
       "      <th>start_ingredient_index</th>\n",
       "    </tr>\n",
       "  </thead>\n",
       "  <tbody>\n",
       "    <tr>\n",
       "      <th>1</th>\n",
       "      <td>[beef, chicken_breast, cream_of_mushroom_soup,...</td>\n",
       "      <td>[[-0.33506337, 0.08803183, -0.24923237, 0.0341...</td>\n",
       "      <td>4</td>\n",
       "      <td>beef</td>\n",
       "      <td>[339, 1076, 1596, 5574]</td>\n",
       "      <td>339</td>\n",
       "    </tr>\n",
       "    <tr>\n",
       "      <th>4</th>\n",
       "      <td>[peanut_butter, graham_cracker_crumb, butter, ...</td>\n",
       "      <td>[[-0.17900778, -0.039890748, -0.13081385, 0.30...</td>\n",
       "      <td>5</td>\n",
       "      <td>peanut_butter</td>\n",
       "      <td>[4375, 2733, 727, 4719, 1197]</td>\n",
       "      <td>4375</td>\n",
       "    </tr>\n",
       "    <tr>\n",
       "      <th>9</th>\n",
       "      <td>[pineapple, condensed_milk, lemon, pecan, grah...</td>\n",
       "      <td>[[0.16943195, -0.31285393, -0.23219007, 0.1775...</td>\n",
       "      <td>5</td>\n",
       "      <td>pecan</td>\n",
       "      <td>[4519, 1412, 3479, 4401, 2735]</td>\n",
       "      <td>4401</td>\n",
       "    </tr>\n",
       "    <tr>\n",
       "      <th>12</th>\n",
       "      <td>[chicken, flour, barbecue_sauce]</td>\n",
       "      <td>[[-0.22679155, 0.100118645, 0.10348936, 0.2072...</td>\n",
       "      <td>3</td>\n",
       "      <td>barbecue_sauce</td>\n",
       "      <td>[1066, 2242, 297]</td>\n",
       "      <td>297</td>\n",
       "    </tr>\n",
       "    <tr>\n",
       "      <th>14</th>\n",
       "      <td>[pie_filling, pineapple, condensed_milk, lemon...</td>\n",
       "      <td>[[-0.021126581, 0.1452302, -0.09510492, -0.035...</td>\n",
       "      <td>4</td>\n",
       "      <td>pie_filling</td>\n",
       "      <td>[4487, 4519, 1412, 3499]</td>\n",
       "      <td>4487</td>\n",
       "    </tr>\n",
       "    <tr>\n",
       "      <th>...</th>\n",
       "      <td>...</td>\n",
       "      <td>...</td>\n",
       "      <td>...</td>\n",
       "      <td>...</td>\n",
       "      <td>...</td>\n",
       "      <td>...</td>\n",
       "    </tr>\n",
       "    <tr>\n",
       "      <th>2231129</th>\n",
       "      <td>[brown_sugar, sour_cream, butter, butter, corn...</td>\n",
       "      <td>[[-0.37061608, -0.21077241, -0.011841524, -0.1...</td>\n",
       "      <td>14</td>\n",
       "      <td>brown_sugar</td>\n",
       "      <td>[697, 5574, 727, 727, 1529, 6206, 6228, 2052, ...</td>\n",
       "      <td>697</td>\n",
       "    </tr>\n",
       "    <tr>\n",
       "      <th>2231132</th>\n",
       "      <td>[egg, vegetable_oil, white_sugar, pumpkin_pure...</td>\n",
       "      <td>[[0.25692862, 0.08700464, 0.23288268, 0.169938...</td>\n",
       "      <td>15</td>\n",
       "      <td>ground_ginger</td>\n",
       "      <td>[2052, 6286, 6473, 4793, 2242, 276, 277, 5228,...</td>\n",
       "      <td>2889</td>\n",
       "    </tr>\n",
       "    <tr>\n",
       "      <th>2231135</th>\n",
       "      <td>[bread, italian_sauce, frozen_meatball]</td>\n",
       "      <td>[[0.17803018, 0.19869211, 0.01149651, 0.133690...</td>\n",
       "      <td>3</td>\n",
       "      <td>italian_sauce</td>\n",
       "      <td>[624, 3251, 2510]</td>\n",
       "      <td>3251</td>\n",
       "    </tr>\n",
       "    <tr>\n",
       "      <th>2231137</th>\n",
       "      <td>[chocolate_hazelnut_spread, tortilla, butter, ...</td>\n",
       "      <td>[[0.16573386, -0.09754042, -0.16330065, 0.2495...</td>\n",
       "      <td>5</td>\n",
       "      <td>tortilla</td>\n",
       "      <td>[1229, 6061, 727, 3822, 2998]</td>\n",
       "      <td>6061</td>\n",
       "    </tr>\n",
       "    <tr>\n",
       "      <th>2231139</th>\n",
       "      <td>[radish, sesame_oil, white_sesame_seed, salt, ...</td>\n",
       "      <td>[[-0.04550373, -0.25148478, -0.26799715, 0.023...</td>\n",
       "      <td>5</td>\n",
       "      <td>sesame_oil</td>\n",
       "      <td>[4838, 5360, 6471, 5228, 5601]</td>\n",
       "      <td>5360</td>\n",
       "    </tr>\n",
       "  </tbody>\n",
       "</table>\n",
       "<p>760406 rows × 6 columns</p>\n",
       "</div>\n",
       "      <button class=\"colab-df-convert\" onclick=\"convertToInteractive('df-998da556-517c-428a-8897-c065d8f60049')\"\n",
       "              title=\"Convert this dataframe to an interactive table.\"\n",
       "              style=\"display:none;\">\n",
       "        \n",
       "  <svg xmlns=\"http://www.w3.org/2000/svg\" height=\"24px\"viewBox=\"0 0 24 24\"\n",
       "       width=\"24px\">\n",
       "    <path d=\"M0 0h24v24H0V0z\" fill=\"none\"/>\n",
       "    <path d=\"M18.56 5.44l.94 2.06.94-2.06 2.06-.94-2.06-.94-.94-2.06-.94 2.06-2.06.94zm-11 1L8.5 8.5l.94-2.06 2.06-.94-2.06-.94L8.5 2.5l-.94 2.06-2.06.94zm10 10l.94 2.06.94-2.06 2.06-.94-2.06-.94-.94-2.06-.94 2.06-2.06.94z\"/><path d=\"M17.41 7.96l-1.37-1.37c-.4-.4-.92-.59-1.43-.59-.52 0-1.04.2-1.43.59L10.3 9.45l-7.72 7.72c-.78.78-.78 2.05 0 2.83L4 21.41c.39.39.9.59 1.41.59.51 0 1.02-.2 1.41-.59l7.78-7.78 2.81-2.81c.8-.78.8-2.07 0-2.86zM5.41 20L4 18.59l7.72-7.72 1.47 1.35L5.41 20z\"/>\n",
       "  </svg>\n",
       "      </button>\n",
       "      \n",
       "  <style>\n",
       "    .colab-df-container {\n",
       "      display:flex;\n",
       "      flex-wrap:wrap;\n",
       "      gap: 12px;\n",
       "    }\n",
       "\n",
       "    .colab-df-convert {\n",
       "      background-color: #E8F0FE;\n",
       "      border: none;\n",
       "      border-radius: 50%;\n",
       "      cursor: pointer;\n",
       "      display: none;\n",
       "      fill: #1967D2;\n",
       "      height: 32px;\n",
       "      padding: 0 0 0 0;\n",
       "      width: 32px;\n",
       "    }\n",
       "\n",
       "    .colab-df-convert:hover {\n",
       "      background-color: #E2EBFA;\n",
       "      box-shadow: 0px 1px 2px rgba(60, 64, 67, 0.3), 0px 1px 3px 1px rgba(60, 64, 67, 0.15);\n",
       "      fill: #174EA6;\n",
       "    }\n",
       "\n",
       "    [theme=dark] .colab-df-convert {\n",
       "      background-color: #3B4455;\n",
       "      fill: #D2E3FC;\n",
       "    }\n",
       "\n",
       "    [theme=dark] .colab-df-convert:hover {\n",
       "      background-color: #434B5C;\n",
       "      box-shadow: 0px 1px 3px 1px rgba(0, 0, 0, 0.15);\n",
       "      filter: drop-shadow(0px 1px 2px rgba(0, 0, 0, 0.3));\n",
       "      fill: #FFFFFF;\n",
       "    }\n",
       "  </style>\n",
       "\n",
       "      <script>\n",
       "        const buttonEl =\n",
       "          document.querySelector('#df-998da556-517c-428a-8897-c065d8f60049 button.colab-df-convert');\n",
       "        buttonEl.style.display =\n",
       "          google.colab.kernel.accessAllowed ? 'block' : 'none';\n",
       "\n",
       "        async function convertToInteractive(key) {\n",
       "          const element = document.querySelector('#df-998da556-517c-428a-8897-c065d8f60049');\n",
       "          const dataTable =\n",
       "            await google.colab.kernel.invokeFunction('convertToInteractive',\n",
       "                                                     [key], {});\n",
       "          if (!dataTable) return;\n",
       "\n",
       "          const docLinkHtml = 'Like what you see? Visit the ' +\n",
       "            '<a target=\"_blank\" href=https://colab.research.google.com/notebooks/data_table.ipynb>data table notebook</a>'\n",
       "            + ' to learn more about interactive tables.';\n",
       "          element.innerHTML = '';\n",
       "          dataTable['output_type'] = 'display_data';\n",
       "          await google.colab.output.renderOutput(dataTable, element);\n",
       "          const docLink = document.createElement('div');\n",
       "          docLink.innerHTML = docLinkHtml;\n",
       "          element.appendChild(docLink);\n",
       "        }\n",
       "      </script>\n",
       "    </div>\n",
       "  </div>\n",
       "  "
      ],
      "text/plain": [
       "                                                       NER  \\\n",
       "1        [beef, chicken_breast, cream_of_mushroom_soup,...   \n",
       "4        [peanut_butter, graham_cracker_crumb, butter, ...   \n",
       "9        [pineapple, condensed_milk, lemon, pecan, grah...   \n",
       "12                        [chicken, flour, barbecue_sauce]   \n",
       "14       [pie_filling, pineapple, condensed_milk, lemon...   \n",
       "...                                                    ...   \n",
       "2231129  [brown_sugar, sour_cream, butter, butter, corn...   \n",
       "2231132  [egg, vegetable_oil, white_sugar, pumpkin_pure...   \n",
       "2231135            [bread, italian_sauce, frozen_meatball]   \n",
       "2231137  [chocolate_hazelnut_spread, tortilla, butter, ...   \n",
       "2231139  [radish, sesame_oil, white_sesame_seed, salt, ...   \n",
       "\n",
       "                                                embeddings  num_ingredients  \\\n",
       "1        [[-0.33506337, 0.08803183, -0.24923237, 0.0341...                4   \n",
       "4        [[-0.17900778, -0.039890748, -0.13081385, 0.30...                5   \n",
       "9        [[0.16943195, -0.31285393, -0.23219007, 0.1775...                5   \n",
       "12       [[-0.22679155, 0.100118645, 0.10348936, 0.2072...                3   \n",
       "14       [[-0.021126581, 0.1452302, -0.09510492, -0.035...                4   \n",
       "...                                                    ...              ...   \n",
       "2231129  [[-0.37061608, -0.21077241, -0.011841524, -0.1...               14   \n",
       "2231132  [[0.25692862, 0.08700464, 0.23288268, 0.169938...               15   \n",
       "2231135  [[0.17803018, 0.19869211, 0.01149651, 0.133690...                3   \n",
       "2231137  [[0.16573386, -0.09754042, -0.16330065, 0.2495...                5   \n",
       "2231139  [[-0.04550373, -0.25148478, -0.26799715, 0.023...                5   \n",
       "\n",
       "        start_ingredient                        embedding_matrix_index_list  \\\n",
       "1                   beef                            [339, 1076, 1596, 5574]   \n",
       "4          peanut_butter                      [4375, 2733, 727, 4719, 1197]   \n",
       "9                  pecan                     [4519, 1412, 3479, 4401, 2735]   \n",
       "12        barbecue_sauce                                  [1066, 2242, 297]   \n",
       "14           pie_filling                           [4487, 4519, 1412, 3499]   \n",
       "...                  ...                                                ...   \n",
       "2231129      brown_sugar  [697, 5574, 727, 727, 1529, 6206, 6228, 2052, ...   \n",
       "2231132    ground_ginger  [2052, 6286, 6473, 4793, 2242, 276, 277, 5228,...   \n",
       "2231135    italian_sauce                                  [624, 3251, 2510]   \n",
       "2231137         tortilla                      [1229, 6061, 727, 3822, 2998]   \n",
       "2231139       sesame_oil                     [4838, 5360, 6471, 5228, 5601]   \n",
       "\n",
       "         start_ingredient_index  \n",
       "1                           339  \n",
       "4                          4375  \n",
       "9                          4401  \n",
       "12                          297  \n",
       "14                         4487  \n",
       "...                         ...  \n",
       "2231129                     697  \n",
       "2231132                    2889  \n",
       "2231135                    3251  \n",
       "2231137                    6061  \n",
       "2231139                    5360  \n",
       "\n",
       "[760406 rows x 6 columns]"
      ]
     },
     "execution_count": 27,
     "metadata": {},
     "output_type": "execute_result"
    }
   ],
   "source": [
    "ner_embeddings"
   ]
  },
  {
   "cell_type": "code",
   "execution_count": 28,
   "metadata": {
    "id": "dArw-ceO5BVJ"
   },
   "outputs": [],
   "source": [
    "# # ignore\n",
    "# class myCallback(tf.keras.callbacks.Callback):\n",
    "# \tdef on_epoch_end(self, epoch, logs={}):\n",
    "# \t\tif(logs.get('accuracy')>0.93):\n",
    "# \t\t\tprint(\"\\nReached 93% accuracy so cancelling training!\")\n",
    "# \t\t\tself.model.stop_training = True\n",
    "\n",
    "# callbacks = myCallback()\n",
    "\n",
    "# history = model.fit(predictors, label, epochs=10, verbose=1, callbacks=[callbacks])\n"
   ]
  },
  {
   "cell_type": "code",
   "execution_count": 29,
   "metadata": {
    "id": "oEP86Azk5UJm"
   },
   "outputs": [],
   "source": [
    "# # ignore\n",
    "# seed_text = \"water\"\n",
    "# seed_text_two = \"olive oil\"\n",
    "# seed_text_three = \"cinnamon\"\n",
    "# seed_text_three = \"garlic\"\n",
    "# seed_text_three = \"tequila\""
   ]
  },
  {
   "cell_type": "code",
   "execution_count": 30,
   "metadata": {
    "id": "rnN6_NEJ5YWB"
   },
   "outputs": [],
   "source": [
    "# #ignore\n",
    "# next_words = 5\n",
    "\n",
    "# for _ in range(next_words):\n",
    "#   token_list = tokenizer.texts_to_sequences([seed_text])[0]\n",
    "#   token_list = pad_sequences([token_list], maxlen=max_sequence_len-1, padding='pre')\n",
    "#   predict_x=model.predict(token_list) \n",
    "#   predicted=np.argmax(predict_x,axis=1)\n",
    "  \n",
    "#   output_word = \"\"\n",
    "#   for word, index in tokenizer.word_index.items():\n",
    "#     if index == predicted:\n",
    "#       output_word = word\n",
    "#       break\n",
    "#   seed_text += \" \" + output_word\n",
    "\n",
    "# seed_text = (seed_text + \".\").capitalize()\n",
    "# print(seed_text)"
   ]
  }
 ],
 "metadata": {
  "accelerator": "TPU",
  "colab": {
   "provenance": []
  },
  "gpuClass": "standard",
  "kernelspec": {
   "display_name": "Python 3",
   "language": "python",
   "name": "python3"
  },
  "language_info": {
   "codemirror_mode": {
    "name": "ipython",
    "version": 3
   },
   "file_extension": ".py",
   "mimetype": "text/x-python",
   "name": "python",
   "nbconvert_exporter": "python",
   "pygments_lexer": "ipython3",
   "version": "3.8.3"
  }
 },
 "nbformat": 4,
 "nbformat_minor": 1
}
