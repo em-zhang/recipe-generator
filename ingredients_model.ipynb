{
 "cells": [
  {
   "cell_type": "markdown",
   "metadata": {},
   "source": [
    "Based on tutorial from https://towardsdatascience.com/pre-trained-word-embedding-for-text-classification-end2end-approach-5fbf5cd8aead"
   ]
  },
  {
   "cell_type": "code",
   "execution_count": 20,
   "metadata": {},
   "outputs": [],
   "source": [
    "import pickle\n",
    "import numpy as np\n",
    "import pandas"
   ]
  },
  {
   "cell_type": "code",
   "execution_count": 21,
   "metadata": {},
   "outputs": [],
   "source": [
    "# open and load data from pickle file\n",
    "file = open('FlavorGraph_NodeEmbedding.pickle', 'rb')\n",
    "\n",
    "# keys are strings for node_id, value is embedding\n",
    "data = pickle.load(file)\n",
    "\n",
    "file.close()"
   ]
  },
  {
   "cell_type": "code",
   "execution_count": 22,
   "metadata": {},
   "outputs": [],
   "source": [
    "# load dataframe of node_ids and ingredients\n",
    "df = pandas.read_csv('nodes_191120.csv')"
   ]
  },
  {
   "cell_type": "code",
   "execution_count": 23,
   "metadata": {},
   "outputs": [],
   "source": [
    "# just get the embeddings for ingredients\n",
    "ing_embeddings = {}\n",
    "\n",
    "for i in range(len(df)):\n",
    "    if df.loc[i, 'node_type'] == \"ingredient\":\n",
    "        # map the name of the ingredient to the embedding\n",
    "        ing_embeddings[df.loc[i, 'name']] = data[str(df.loc[i, 'node_id'])]\n",
    "        \n"
   ]
  },
  {
   "cell_type": "code",
   "execution_count": 24,
   "metadata": {},
   "outputs": [],
   "source": [
    "# open and load data from pickle file\n",
    "ner_embeddings_file = open('ner_embeddings.pkl', 'rb')\n",
    "\n",
    "# keys are strings for node_id, value is embedding\n",
    "ner_embeddings = pickle.load(ner_embeddings_file)\n",
    "\n",
    "ner_embeddings_file.close()"
   ]
  },
  {
   "cell_type": "code",
   "execution_count": 25,
   "metadata": {},
   "outputs": [],
   "source": [
    "EMBEDDING_DIMENSIONS = 300\n",
    "\n",
    "## these indices are different from those in flavor graph\n",
    "matrix_ing_to_idx = {}\n",
    "\n",
    "def construct_embedding_matrix(embeddings):\n",
    "    num_ing = len(embeddings)\n",
    "\n",
    "    # initialize a matrix of zeros\n",
    "    embedding_matrix = np.zeros((num_ing, EMBEDDING_DIMENSIONS)) # each embedding has 300 dimensions\n",
    "\n",
    "    next_row = 0\n",
    "\n",
    "    for i in embeddings:\n",
    "        v = embeddings.get(i)\n",
    "        embedding_matrix[next_row] = v\n",
    "        matrix_ing_to_idx[i] = next_row\n",
    "        next_row+=1\n",
    "    \n",
    "    return embedding_matrix"
   ]
  },
  {
   "cell_type": "code",
   "execution_count": 28,
   "metadata": {},
   "outputs": [],
   "source": [
    "embedding_matrix = construct_embedding_matrix(ing_embeddings)"
   ]
  },
  {
   "cell_type": "code",
   "execution_count": 29,
   "metadata": {},
   "outputs": [
    {
     "data": {
      "text/plain": [
       "array([[-0.10600116,  0.04714949,  0.10841199, ..., -0.03144248,\n",
       "        -0.06629407, -0.1286629 ],\n",
       "       [-0.01582931,  0.09736368, -0.00062261, ..., -0.09226537,\n",
       "        -0.12149926, -0.12204846],\n",
       "       [-0.10132008,  0.03372396,  0.06472784, ..., -0.22692445,\n",
       "        -0.04366636, -0.20344618],\n",
       "       ...,\n",
       "       [-0.19128327,  0.17544127, -0.09963894, ..., -0.20900002,\n",
       "        -0.17799097, -0.1547064 ],\n",
       "       [ 0.02008764,  0.04900858, -0.26409724, ..., -0.19495088,\n",
       "        -0.16633987, -0.21576235],\n",
       "       [ 0.20899913, -0.15171458, -0.25460058, ..., -0.18800448,\n",
       "        -0.08664556, -0.07758268]])"
      ]
     },
     "execution_count": 29,
     "metadata": {},
     "output_type": "execute_result"
    }
   ],
   "source": [
    "embedding_matrix"
   ]
  },
  {
   "cell_type": "code",
   "execution_count": 30,
   "metadata": {},
   "outputs": [
    {
     "name": "stdout",
     "output_type": "stream",
     "text": [
      "                                                  NER  \\\n",
      "1   [beef, chicken_breast, cream_of_mushroom_soup,...   \n",
      "4   [peanut_butter, graham_cracker_crumb, butter, ...   \n",
      "9   [pineapple, condensed_milk, lemon, pecan, grah...   \n",
      "12                   [chicken, flour, barbecue_sauce]   \n",
      "14  [pie_filling, pineapple, condensed_milk, lemon...   \n",
      "\n",
      "                                           embeddings  num_ingredients  \\\n",
      "1   [[-0.33506337, 0.08803183, -0.24923237, 0.0341...                4   \n",
      "4   [[-0.17900778, -0.039890748, -0.13081385, 0.30...                5   \n",
      "9   [[0.16943195, -0.31285393, -0.23219007, 0.1775...                5   \n",
      "12  [[-0.22679155, 0.100118645, 0.10348936, 0.2072...                3   \n",
      "14  [[-0.021126581, 0.1452302, -0.09510492, -0.035...                4   \n",
      "\n",
      "   start_ingredient  \n",
      "1              beef  \n",
      "4     peanut_butter  \n",
      "9             pecan  \n",
      "12   barbecue_sauce  \n",
      "14      pie_filling  \n"
     ]
    }
   ],
   "source": [
    "print(ner_embeddings.head())"
   ]
  },
  {
   "cell_type": "code",
   "execution_count": 31,
   "metadata": {},
   "outputs": [],
   "source": [
    "# at this point, all of the ingredients should be valid, so should never get -1 (see NLG_cleaning.ipynb)\n",
    "def get_indices(ing_list):\n",
    "    emb_list = []\n",
    "    for i in range(len(ing_list)):\n",
    "        ing_str = ing_list[i]\n",
    "\n",
    "        emb = matrix_ing_to_idx.get(ing_str, -1)\n",
    "        emb_list.append(emb)\n",
    "    return emb_list"
   ]
  },
  {
   "cell_type": "code",
   "execution_count": 32,
   "metadata": {},
   "outputs": [],
   "source": [
    "ner_embeddings['embedding_matrix_index_list'] = ner_embeddings['NER'].apply(get_indices)"
   ]
  },
  {
   "cell_type": "code",
   "execution_count": 34,
   "metadata": {},
   "outputs": [],
   "source": [
    "ner_embeddings.loc[:, 'start_ingredient_index'] = ner_embeddings.apply (lambda row: matrix_ing_to_idx.get(row.start_ingredient, -1), axis=1)\n"
   ]
  },
  {
   "cell_type": "code",
   "execution_count": 35,
   "metadata": {},
   "outputs": [
    {
     "name": "stdout",
     "output_type": "stream",
     "text": [
      "                                                  NER  \\\n",
      "1   [beef, chicken_breast, cream_of_mushroom_soup,...   \n",
      "4   [peanut_butter, graham_cracker_crumb, butter, ...   \n",
      "9   [pineapple, condensed_milk, lemon, pecan, grah...   \n",
      "12                   [chicken, flour, barbecue_sauce]   \n",
      "14  [pie_filling, pineapple, condensed_milk, lemon...   \n",
      "\n",
      "                                           embeddings  num_ingredients  \\\n",
      "1   [[-0.33506337, 0.08803183, -0.24923237, 0.0341...                4   \n",
      "4   [[-0.17900778, -0.039890748, -0.13081385, 0.30...                5   \n",
      "9   [[0.16943195, -0.31285393, -0.23219007, 0.1775...                5   \n",
      "12  [[-0.22679155, 0.100118645, 0.10348936, 0.2072...                3   \n",
      "14  [[-0.021126581, 0.1452302, -0.09510492, -0.035...                4   \n",
      "\n",
      "   start_ingredient     embedding_matrix_index_list  start_ingredient_index  \n",
      "1              beef         [339, 1076, 1596, 5574]                     339  \n",
      "4     peanut_butter   [4375, 2733, 727, 4719, 1197]                    4375  \n",
      "9             pecan  [4519, 1412, 3479, 4401, 2735]                    4401  \n",
      "12   barbecue_sauce               [1066, 2242, 297]                     297  \n",
      "14      pie_filling        [4487, 4519, 1412, 3499]                    4487  \n"
     ]
    }
   ],
   "source": [
    "print(ner_embeddings.head())"
   ]
  },
  {
   "cell_type": "code",
   "execution_count": 36,
   "metadata": {},
   "outputs": [
    {
     "data": {
      "text/html": [
       "<div>\n",
       "<style scoped>\n",
       "    .dataframe tbody tr th:only-of-type {\n",
       "        vertical-align: middle;\n",
       "    }\n",
       "\n",
       "    .dataframe tbody tr th {\n",
       "        vertical-align: top;\n",
       "    }\n",
       "\n",
       "    .dataframe thead th {\n",
       "        text-align: right;\n",
       "    }\n",
       "</style>\n",
       "<table border=\"1\" class=\"dataframe\">\n",
       "  <thead>\n",
       "    <tr style=\"text-align: right;\">\n",
       "      <th></th>\n",
       "      <th>NER</th>\n",
       "      <th>embeddings</th>\n",
       "      <th>num_ingredients</th>\n",
       "      <th>start_ingredient</th>\n",
       "      <th>embedding_matrix_index_list</th>\n",
       "      <th>start_ingredient_index</th>\n",
       "    </tr>\n",
       "  </thead>\n",
       "  <tbody>\n",
       "    <tr>\n",
       "      <th>1</th>\n",
       "      <td>[beef, chicken_breast, cream_of_mushroom_soup,...</td>\n",
       "      <td>[[-0.33506337, 0.08803183, -0.24923237, 0.0341...</td>\n",
       "      <td>4</td>\n",
       "      <td>beef</td>\n",
       "      <td>[339, 1076, 1596, 5574]</td>\n",
       "      <td>339</td>\n",
       "    </tr>\n",
       "    <tr>\n",
       "      <th>4</th>\n",
       "      <td>[peanut_butter, graham_cracker_crumb, butter, ...</td>\n",
       "      <td>[[-0.17900778, -0.039890748, -0.13081385, 0.30...</td>\n",
       "      <td>5</td>\n",
       "      <td>peanut_butter</td>\n",
       "      <td>[4375, 2733, 727, 4719, 1197]</td>\n",
       "      <td>4375</td>\n",
       "    </tr>\n",
       "    <tr>\n",
       "      <th>9</th>\n",
       "      <td>[pineapple, condensed_milk, lemon, pecan, grah...</td>\n",
       "      <td>[[0.16943195, -0.31285393, -0.23219007, 0.1775...</td>\n",
       "      <td>5</td>\n",
       "      <td>pecan</td>\n",
       "      <td>[4519, 1412, 3479, 4401, 2735]</td>\n",
       "      <td>4401</td>\n",
       "    </tr>\n",
       "    <tr>\n",
       "      <th>12</th>\n",
       "      <td>[chicken, flour, barbecue_sauce]</td>\n",
       "      <td>[[-0.22679155, 0.100118645, 0.10348936, 0.2072...</td>\n",
       "      <td>3</td>\n",
       "      <td>barbecue_sauce</td>\n",
       "      <td>[1066, 2242, 297]</td>\n",
       "      <td>297</td>\n",
       "    </tr>\n",
       "    <tr>\n",
       "      <th>14</th>\n",
       "      <td>[pie_filling, pineapple, condensed_milk, lemon...</td>\n",
       "      <td>[[-0.021126581, 0.1452302, -0.09510492, -0.035...</td>\n",
       "      <td>4</td>\n",
       "      <td>pie_filling</td>\n",
       "      <td>[4487, 4519, 1412, 3499]</td>\n",
       "      <td>4487</td>\n",
       "    </tr>\n",
       "  </tbody>\n",
       "</table>\n",
       "</div>"
      ],
      "text/plain": [
       "                                                  NER  \\\n",
       "1   [beef, chicken_breast, cream_of_mushroom_soup,...   \n",
       "4   [peanut_butter, graham_cracker_crumb, butter, ...   \n",
       "9   [pineapple, condensed_milk, lemon, pecan, grah...   \n",
       "12                   [chicken, flour, barbecue_sauce]   \n",
       "14  [pie_filling, pineapple, condensed_milk, lemon...   \n",
       "\n",
       "                                           embeddings  num_ingredients  \\\n",
       "1   [[-0.33506337, 0.08803183, -0.24923237, 0.0341...                4   \n",
       "4   [[-0.17900778, -0.039890748, -0.13081385, 0.30...                5   \n",
       "9   [[0.16943195, -0.31285393, -0.23219007, 0.1775...                5   \n",
       "12  [[-0.22679155, 0.100118645, 0.10348936, 0.2072...                3   \n",
       "14  [[-0.021126581, 0.1452302, -0.09510492, -0.035...                4   \n",
       "\n",
       "   start_ingredient     embedding_matrix_index_list  start_ingredient_index  \n",
       "1              beef         [339, 1076, 1596, 5574]                     339  \n",
       "4     peanut_butter   [4375, 2733, 727, 4719, 1197]                    4375  \n",
       "9             pecan  [4519, 1412, 3479, 4401, 2735]                    4401  \n",
       "12   barbecue_sauce               [1066, 2242, 297]                     297  \n",
       "14      pie_filling        [4487, 4519, 1412, 3499]                    4487  "
      ]
     },
     "execution_count": 36,
     "metadata": {},
     "output_type": "execute_result"
    }
   ],
   "source": [
    "ner_embeddings.to_pickle(\"ner_embeddings.pkl\")\n",
    "\n",
    "# open and load data from pickle file\n",
    "check_pickle = open('ner_embeddings.pkl', 'rb')\n",
    "\n",
    "# keys are strings for node_id, value is embedding\n",
    "verify_data = pickle.load(check_pickle)\n",
    "\n",
    "check_pickle.close()\n",
    "\n",
    "verify_data.head()"
   ]
  },
  {
   "cell_type": "code",
   "execution_count": null,
   "metadata": {},
   "outputs": [],
   "source": []
  }
 ],
 "metadata": {
  "kernelspec": {
   "display_name": "Python 3",
   "language": "python",
   "name": "python3"
  },
  "language_info": {
   "codemirror_mode": {
    "name": "ipython",
    "version": 3
   },
   "file_extension": ".py",
   "mimetype": "text/x-python",
   "name": "python",
   "nbconvert_exporter": "python",
   "pygments_lexer": "ipython3",
   "version": "3.8.3"
  }
 },
 "nbformat": 4,
 "nbformat_minor": 4
}
