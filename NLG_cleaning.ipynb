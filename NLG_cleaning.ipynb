{
 "cells": [
  {
   "cell_type": "code",
   "execution_count": 1,
   "metadata": {},
   "outputs": [],
   "source": [
    "import numpy as np\n",
    "import pandas\n",
    "import zipfile\n",
    "import random\n",
    "import pickle"
   ]
  },
  {
   "cell_type": "code",
   "execution_count": 2,
   "metadata": {},
   "outputs": [],
   "source": [
    "with zipfile.ZipFile('full_dataset.csv.zip') as zipped:\n",
    "    with zipped.open('full_dataset.csv') as file:\n",
    "        df = pandas.read_csv(file)\n",
    "\n",
    "# display dataset\n",
    "# print(recipeNLG_df.head())"
   ]
  },
  {
   "cell_type": "code",
   "execution_count": 3,
   "metadata": {},
   "outputs": [],
   "source": [
    "recipeNLG_df = df.loc[:, ['NER']]"
   ]
  },
  {
   "cell_type": "code",
   "execution_count": 4,
   "metadata": {},
   "outputs": [],
   "source": [
    "# recipeNLG_df['NER'] = recipeNLG_df['NER'].apply(lambda x: x.replace(\" \", \"_\").replace(\",_\", \", \"))\n",
    "# print(recipeNLG_df.head())"
   ]
  },
  {
   "cell_type": "code",
   "execution_count": 4,
   "metadata": {},
   "outputs": [
    {
     "name": "stdout",
     "output_type": "stream",
     "text": [
      "                                                 NER\n",
      "0  [brown sugar, milk, vanilla, nuts, butter, bit...\n",
      "1  [beef, chicken breasts, cream of mushroom soup...\n",
      "2  [frozen corn, cream cheese, butter, garlic pow...\n",
      "3  [chicken, chicken gravy, cream of mushroom sou...\n",
      "4  [peanut butter, graham cracker crumbs, butter,...\n"
     ]
    }
   ],
   "source": [
    "# https://towardsdatascience.com/dealing-with-list-values-in-pandas-dataframes-a177e534f173\n",
    "recipeNLG_df['NER'] = recipeNLG_df.loc[:,'NER'].apply(eval)\n",
    "print(recipeNLG_df.head())"
   ]
  },
  {
   "cell_type": "code",
   "execution_count": 5,
   "metadata": {},
   "outputs": [],
   "source": [
    "# load dataframe of node_ids and ingredients\n",
    "id_ing_df = pandas.read_csv('nodes_191120.csv')"
   ]
  },
  {
   "cell_type": "code",
   "execution_count": 6,
   "metadata": {},
   "outputs": [],
   "source": [
    "# open and load data from pickle file\n",
    "file = open('FlavorGraph_NodeEmbedding.pickle', 'rb')\n",
    "\n",
    "# keys are strings for node_id, value is embedding\n",
    "data = pickle.load(file)\n",
    "\n",
    "file.close()\n",
    "\n",
    "# just get the embeddings for ingredients\n",
    "ing_embeddings = {}\n",
    "\n",
    "for i in range(len(id_ing_df)):\n",
    "    if id_ing_df.loc[i, 'node_type'] == \"ingredient\":\n",
    "        # map the name of the ingredient to the embedding\n",
    "        ing_embeddings[id_ing_df.loc[i, 'name']] = data[str(id_ing_df.loc[i, 'node_id'])]\n",
    "        "
   ]
  },
  {
   "cell_type": "code",
   "execution_count": 60,
   "metadata": {},
   "outputs": [],
   "source": [
    "# print(ing_embeddings['brown_sugar'])"
   ]
  },
  {
   "cell_type": "code",
   "execution_count": 7,
   "metadata": {},
   "outputs": [],
   "source": [
    "def clean_ing(ing_list):\n",
    "    for i in range(len(ing_list)):\n",
    "        ing_str = ing_list[i]\n",
    "        ing_str = ing_str.lower()\n",
    "        if ing_str.endswith('s'):\n",
    "            ing_str = ing_str[:-1]    \n",
    "        ing_str = ing_str.replace(\" \", \"_\")\n",
    "        ing_list[i] = ing_str\n",
    "    return ing_list\n",
    "\n",
    "def get_embeddings(ing_list):\n",
    "    emb_list = []\n",
    "    for i in range(len(ing_list)):\n",
    "        ing_str = ing_list[i]\n",
    "\n",
    "        emb = ing_embeddings.get(ing_str, [])\n",
    "        if(len(emb) == 0):\n",
    "            return []\n",
    "        else:\n",
    "            emb_list.append(emb)\n",
    "    return emb_list"
   ]
  },
  {
   "cell_type": "code",
   "execution_count": 8,
   "metadata": {},
   "outputs": [
    {
     "name": "stdout",
     "output_type": "stream",
     "text": [
      "                                                 NER  \\\n",
      "0  [brown_sugar, milk, vanilla, nut, butter, bite...   \n",
      "1  [beef, chicken_breast, cream_of_mushroom_soup,...   \n",
      "2  [frozen_corn, cream_cheese, butter, garlic_pow...   \n",
      "3  [chicken, chicken_gravy, cream_of_mushroom_sou...   \n",
      "4  [peanut_butter, graham_cracker_crumb, butter, ...   \n",
      "5  [baking_potatoe, extra_lean_ground_beef, butte...   \n",
      "6  [sugar, butter, egg, buttermilk, flour, salt, ...   \n",
      "7  [cream-style_corn, whole_kernel_corn, cracker,...   \n",
      "8  [tomatoe, water, onion, worcestershire_sauce, ...   \n",
      "9  [pineapple, condensed_milk, lemon, pecan, grah...   \n",
      "\n",
      "                                          embeddings  \n",
      "0                                                 []  \n",
      "1  [[-0.33506337, 0.08803183, -0.24923237, 0.0341...  \n",
      "2                                                 []  \n",
      "3                                                 []  \n",
      "4  [[-0.17900778, -0.039890748, -0.13081385, 0.30...  \n",
      "5                                                 []  \n",
      "6                                                 []  \n",
      "7                                                 []  \n",
      "8                                                 []  \n",
      "9  [[0.16943195, -0.31285393, -0.23219007, 0.1775...  \n"
     ]
    }
   ],
   "source": [
    "recipeNLG_df['NER'] = recipeNLG_df['NER'].apply(clean_ing)\n",
    "recipeNLG_df['embeddings'] = recipeNLG_df['NER'].apply(get_embeddings)\n",
    "print(recipeNLG_df.iloc[:10])"
   ]
  },
  {
   "cell_type": "code",
   "execution_count": 9,
   "metadata": {},
   "outputs": [
    {
     "name": "stdout",
     "output_type": "stream",
     "text": [
      "                                                 NER  \\\n",
      "0  [brown_sugar, milk, vanilla, nut, butter, bite...   \n",
      "1  [beef, chicken_breast, cream_of_mushroom_soup,...   \n",
      "2  [frozen_corn, cream_cheese, butter, garlic_pow...   \n",
      "3  [chicken, chicken_gravy, cream_of_mushroom_sou...   \n",
      "4  [peanut_butter, graham_cracker_crumb, butter, ...   \n",
      "\n",
      "                                          embeddings  \n",
      "0                                                 []  \n",
      "1  [[-0.33506337, 0.08803183, -0.24923237, 0.0341...  \n",
      "2                                                 []  \n",
      "3                                                 []  \n",
      "4  [[-0.17900778, -0.039890748, -0.13081385, 0.30...  \n"
     ]
    }
   ],
   "source": [
    "print(recipeNLG_df.head())\n",
    "save = recipeNLG_df\n",
    "\n",
    "# # load dataframe of node_ids and ingredients\n",
    "# nodes_df = pandas.read_csv('nodes_191120.csv')\n",
    "# ing_set = set(nodes_df['name'])\n",
    "# print(ing_set)"
   ]
  },
  {
   "cell_type": "code",
   "execution_count": 10,
   "metadata": {},
   "outputs": [],
   "source": [
    "# only keeps rows with NER list > 0\n",
    "recipeNLG_df = recipeNLG_df[recipeNLG_df['embeddings'].map(lambda d: len(d)) > 0]"
   ]
  },
  {
   "cell_type": "code",
   "execution_count": 11,
   "metadata": {},
   "outputs": [
    {
     "name": "stdout",
     "output_type": "stream",
     "text": [
      "                                                  NER  \\\n",
      "1   [beef, chicken_breast, cream_of_mushroom_soup,...   \n",
      "4   [peanut_butter, graham_cracker_crumb, butter, ...   \n",
      "9   [pineapple, condensed_milk, lemon, pecan, grah...   \n",
      "12                   [chicken, flour, barbecue_sauce]   \n",
      "14  [pie_filling, pineapple, condensed_milk, lemon...   \n",
      "\n",
      "                                           embeddings  \n",
      "1   [[-0.33506337, 0.08803183, -0.24923237, 0.0341...  \n",
      "4   [[-0.17900778, -0.039890748, -0.13081385, 0.30...  \n",
      "9   [[0.16943195, -0.31285393, -0.23219007, 0.1775...  \n",
      "12  [[-0.22679155, 0.100118645, 0.10348936, 0.2072...  \n",
      "14  [[-0.021126581, 0.1452302, -0.09510492, -0.035...  \n"
     ]
    }
   ],
   "source": [
    "print(recipeNLG_df.head())"
   ]
  },
  {
   "cell_type": "code",
   "execution_count": 12,
   "metadata": {},
   "outputs": [
    {
     "name": "stderr",
     "output_type": "stream",
     "text": [
      "/Library/Frameworks/Python.framework/Versions/3.8/lib/python3.8/site-packages/pandas/core/indexing.py:845: SettingWithCopyWarning: \n",
      "A value is trying to be set on a copy of a slice from a DataFrame.\n",
      "Try using .loc[row_indexer,col_indexer] = value instead\n",
      "\n",
      "See the caveats in the documentation: https://pandas.pydata.org/pandas-docs/stable/user_guide/indexing.html#returning-a-view-versus-a-copy\n",
      "  self.obj[key] = _infer_fill_value(value)\n",
      "/Library/Frameworks/Python.framework/Versions/3.8/lib/python3.8/site-packages/pandas/core/indexing.py:966: SettingWithCopyWarning: \n",
      "A value is trying to be set on a copy of a slice from a DataFrame.\n",
      "Try using .loc[row_indexer,col_indexer] = value instead\n",
      "\n",
      "See the caveats in the documentation: https://pandas.pydata.org/pandas-docs/stable/user_guide/indexing.html#returning-a-view-versus-a-copy\n",
      "  self.obj[item] = s\n"
     ]
    },
    {
     "name": "stdout",
     "output_type": "stream",
     "text": [
      "                                                  NER  \\\n",
      "1   [beef, chicken_breast, cream_of_mushroom_soup,...   \n",
      "4   [peanut_butter, graham_cracker_crumb, butter, ...   \n",
      "9   [pineapple, condensed_milk, lemon, pecan, grah...   \n",
      "12                   [chicken, flour, barbecue_sauce]   \n",
      "14  [pie_filling, pineapple, condensed_milk, lemon...   \n",
      "\n",
      "                                           embeddings  num_ingredients  \\\n",
      "1   [[-0.33506337, 0.08803183, -0.24923237, 0.0341...                4   \n",
      "4   [[-0.17900778, -0.039890748, -0.13081385, 0.30...                5   \n",
      "9   [[0.16943195, -0.31285393, -0.23219007, 0.1775...                5   \n",
      "12  [[-0.22679155, 0.100118645, 0.10348936, 0.2072...                3   \n",
      "14  [[-0.021126581, 0.1452302, -0.09510492, -0.035...                4   \n",
      "\n",
      "          start_ingredient  \n",
      "1   cream_of_mushroom_soup  \n",
      "4           powdered_sugar  \n",
      "9                    lemon  \n",
      "12                   flour  \n",
      "14               pineapple  \n"
     ]
    }
   ],
   "source": [
    "recipeNLG_df.loc[:, 'num_ingredients'] = recipeNLG_df.apply (lambda row: len(row.NER), axis=1)\n",
    "recipeNLG_df.loc[:, 'start_ingredient'] = recipeNLG_df.apply (lambda row: random.choice(row.NER) if row.num_ingredients > 0 else '', axis=1)\n",
    "print(recipeNLG_df.head())"
   ]
  },
  {
   "cell_type": "code",
   "execution_count": 13,
   "metadata": {},
   "outputs": [
    {
     "data": {
      "text/html": [
       "<div>\n",
       "<style scoped>\n",
       "    .dataframe tbody tr th:only-of-type {\n",
       "        vertical-align: middle;\n",
       "    }\n",
       "\n",
       "    .dataframe tbody tr th {\n",
       "        vertical-align: top;\n",
       "    }\n",
       "\n",
       "    .dataframe thead th {\n",
       "        text-align: right;\n",
       "    }\n",
       "</style>\n",
       "<table border=\"1\" class=\"dataframe\">\n",
       "  <thead>\n",
       "    <tr style=\"text-align: right;\">\n",
       "      <th></th>\n",
       "      <th>NER</th>\n",
       "      <th>embeddings</th>\n",
       "      <th>num_ingredients</th>\n",
       "      <th>start_ingredient</th>\n",
       "    </tr>\n",
       "  </thead>\n",
       "  <tbody>\n",
       "    <tr>\n",
       "      <th>1</th>\n",
       "      <td>[beef, chicken_breast, cream_of_mushroom_soup,...</td>\n",
       "      <td>[[-0.33506337, 0.08803183, -0.24923237, 0.0341...</td>\n",
       "      <td>4</td>\n",
       "      <td>cream_of_mushroom_soup</td>\n",
       "    </tr>\n",
       "    <tr>\n",
       "      <th>4</th>\n",
       "      <td>[peanut_butter, graham_cracker_crumb, butter, ...</td>\n",
       "      <td>[[-0.17900778, -0.039890748, -0.13081385, 0.30...</td>\n",
       "      <td>5</td>\n",
       "      <td>powdered_sugar</td>\n",
       "    </tr>\n",
       "    <tr>\n",
       "      <th>9</th>\n",
       "      <td>[pineapple, condensed_milk, lemon, pecan, grah...</td>\n",
       "      <td>[[0.16943195, -0.31285393, -0.23219007, 0.1775...</td>\n",
       "      <td>5</td>\n",
       "      <td>lemon</td>\n",
       "    </tr>\n",
       "    <tr>\n",
       "      <th>12</th>\n",
       "      <td>[chicken, flour, barbecue_sauce]</td>\n",
       "      <td>[[-0.22679155, 0.100118645, 0.10348936, 0.2072...</td>\n",
       "      <td>3</td>\n",
       "      <td>flour</td>\n",
       "    </tr>\n",
       "    <tr>\n",
       "      <th>14</th>\n",
       "      <td>[pie_filling, pineapple, condensed_milk, lemon...</td>\n",
       "      <td>[[-0.021126581, 0.1452302, -0.09510492, -0.035...</td>\n",
       "      <td>4</td>\n",
       "      <td>pineapple</td>\n",
       "    </tr>\n",
       "    <tr>\n",
       "      <th>...</th>\n",
       "      <td>...</td>\n",
       "      <td>...</td>\n",
       "      <td>...</td>\n",
       "      <td>...</td>\n",
       "    </tr>\n",
       "    <tr>\n",
       "      <th>2231129</th>\n",
       "      <td>[brown_sugar, sour_cream, butter, butter, corn...</td>\n",
       "      <td>[[-0.37061608, -0.21077241, -0.011841524, -0.1...</td>\n",
       "      <td>14</td>\n",
       "      <td>sugar</td>\n",
       "    </tr>\n",
       "    <tr>\n",
       "      <th>2231132</th>\n",
       "      <td>[egg, vegetable_oil, white_sugar, pumpkin_pure...</td>\n",
       "      <td>[[0.25692862, 0.08700464, 0.23288268, 0.169938...</td>\n",
       "      <td>15</td>\n",
       "      <td>salt</td>\n",
       "    </tr>\n",
       "    <tr>\n",
       "      <th>2231135</th>\n",
       "      <td>[bread, italian_sauce, frozen_meatball]</td>\n",
       "      <td>[[0.17803018, 0.19869211, 0.01149651, 0.133690...</td>\n",
       "      <td>3</td>\n",
       "      <td>frozen_meatball</td>\n",
       "    </tr>\n",
       "    <tr>\n",
       "      <th>2231137</th>\n",
       "      <td>[chocolate_hazelnut_spread, tortilla, butter, ...</td>\n",
       "      <td>[[0.16573386, -0.09754042, -0.16330065, 0.2495...</td>\n",
       "      <td>5</td>\n",
       "      <td>chocolate_hazelnut_spread</td>\n",
       "    </tr>\n",
       "    <tr>\n",
       "      <th>2231139</th>\n",
       "      <td>[radish, sesame_oil, white_sesame_seed, salt, ...</td>\n",
       "      <td>[[-0.04550373, -0.25148478, -0.26799715, 0.023...</td>\n",
       "      <td>5</td>\n",
       "      <td>radish</td>\n",
       "    </tr>\n",
       "  </tbody>\n",
       "</table>\n",
       "<p>760406 rows × 4 columns</p>\n",
       "</div>"
      ],
      "text/plain": [
       "                                                       NER  \\\n",
       "1        [beef, chicken_breast, cream_of_mushroom_soup,...   \n",
       "4        [peanut_butter, graham_cracker_crumb, butter, ...   \n",
       "9        [pineapple, condensed_milk, lemon, pecan, grah...   \n",
       "12                        [chicken, flour, barbecue_sauce]   \n",
       "14       [pie_filling, pineapple, condensed_milk, lemon...   \n",
       "...                                                    ...   \n",
       "2231129  [brown_sugar, sour_cream, butter, butter, corn...   \n",
       "2231132  [egg, vegetable_oil, white_sugar, pumpkin_pure...   \n",
       "2231135            [bread, italian_sauce, frozen_meatball]   \n",
       "2231137  [chocolate_hazelnut_spread, tortilla, butter, ...   \n",
       "2231139  [radish, sesame_oil, white_sesame_seed, salt, ...   \n",
       "\n",
       "                                                embeddings  num_ingredients  \\\n",
       "1        [[-0.33506337, 0.08803183, -0.24923237, 0.0341...                4   \n",
       "4        [[-0.17900778, -0.039890748, -0.13081385, 0.30...                5   \n",
       "9        [[0.16943195, -0.31285393, -0.23219007, 0.1775...                5   \n",
       "12       [[-0.22679155, 0.100118645, 0.10348936, 0.2072...                3   \n",
       "14       [[-0.021126581, 0.1452302, -0.09510492, -0.035...                4   \n",
       "...                                                    ...              ...   \n",
       "2231129  [[-0.37061608, -0.21077241, -0.011841524, -0.1...               14   \n",
       "2231132  [[0.25692862, 0.08700464, 0.23288268, 0.169938...               15   \n",
       "2231135  [[0.17803018, 0.19869211, 0.01149651, 0.133690...                3   \n",
       "2231137  [[0.16573386, -0.09754042, -0.16330065, 0.2495...                5   \n",
       "2231139  [[-0.04550373, -0.25148478, -0.26799715, 0.023...                5   \n",
       "\n",
       "                  start_ingredient  \n",
       "1           cream_of_mushroom_soup  \n",
       "4                   powdered_sugar  \n",
       "9                            lemon  \n",
       "12                           flour  \n",
       "14                       pineapple  \n",
       "...                            ...  \n",
       "2231129                      sugar  \n",
       "2231132                       salt  \n",
       "2231135            frozen_meatball  \n",
       "2231137  chocolate_hazelnut_spread  \n",
       "2231139                     radish  \n",
       "\n",
       "[760406 rows x 4 columns]"
      ]
     },
     "execution_count": 13,
     "metadata": {},
     "output_type": "execute_result"
    }
   ],
   "source": [
    "recipeNLG_df"
   ]
  },
  {
   "cell_type": "code",
   "execution_count": 15,
   "metadata": {},
   "outputs": [],
   "source": [
    "recipeNLG_df.to_pickle(\"ner_embeddings.pkl\")"
   ]
  },
  {
   "cell_type": "code",
   "execution_count": 16,
   "metadata": {},
   "outputs": [],
   "source": [
    "# open and load data from pickle file\n",
    "check_pickle = open('ner_embeddings.pkl', 'rb')\n",
    "\n",
    "# keys are strings for node_id, value is embedding\n",
    "verify_data = pickle.load(check_pickle)\n",
    "\n",
    "check_pickle.close()"
   ]
  },
  {
   "cell_type": "code",
   "execution_count": 17,
   "metadata": {},
   "outputs": [
    {
     "data": {
      "text/html": [
       "<div>\n",
       "<style scoped>\n",
       "    .dataframe tbody tr th:only-of-type {\n",
       "        vertical-align: middle;\n",
       "    }\n",
       "\n",
       "    .dataframe tbody tr th {\n",
       "        vertical-align: top;\n",
       "    }\n",
       "\n",
       "    .dataframe thead th {\n",
       "        text-align: right;\n",
       "    }\n",
       "</style>\n",
       "<table border=\"1\" class=\"dataframe\">\n",
       "  <thead>\n",
       "    <tr style=\"text-align: right;\">\n",
       "      <th></th>\n",
       "      <th>NER</th>\n",
       "      <th>embeddings</th>\n",
       "      <th>num_ingredients</th>\n",
       "      <th>start_ingredient</th>\n",
       "    </tr>\n",
       "  </thead>\n",
       "  <tbody>\n",
       "    <tr>\n",
       "      <th>1</th>\n",
       "      <td>[beef, chicken_breast, cream_of_mushroom_soup,...</td>\n",
       "      <td>[[-0.33506337, 0.08803183, -0.24923237, 0.0341...</td>\n",
       "      <td>4</td>\n",
       "      <td>cream_of_mushroom_soup</td>\n",
       "    </tr>\n",
       "    <tr>\n",
       "      <th>4</th>\n",
       "      <td>[peanut_butter, graham_cracker_crumb, butter, ...</td>\n",
       "      <td>[[-0.17900778, -0.039890748, -0.13081385, 0.30...</td>\n",
       "      <td>5</td>\n",
       "      <td>powdered_sugar</td>\n",
       "    </tr>\n",
       "    <tr>\n",
       "      <th>9</th>\n",
       "      <td>[pineapple, condensed_milk, lemon, pecan, grah...</td>\n",
       "      <td>[[0.16943195, -0.31285393, -0.23219007, 0.1775...</td>\n",
       "      <td>5</td>\n",
       "      <td>lemon</td>\n",
       "    </tr>\n",
       "    <tr>\n",
       "      <th>12</th>\n",
       "      <td>[chicken, flour, barbecue_sauce]</td>\n",
       "      <td>[[-0.22679155, 0.100118645, 0.10348936, 0.2072...</td>\n",
       "      <td>3</td>\n",
       "      <td>flour</td>\n",
       "    </tr>\n",
       "    <tr>\n",
       "      <th>14</th>\n",
       "      <td>[pie_filling, pineapple, condensed_milk, lemon...</td>\n",
       "      <td>[[-0.021126581, 0.1452302, -0.09510492, -0.035...</td>\n",
       "      <td>4</td>\n",
       "      <td>pineapple</td>\n",
       "    </tr>\n",
       "  </tbody>\n",
       "</table>\n",
       "</div>"
      ],
      "text/plain": [
       "                                                  NER  \\\n",
       "1   [beef, chicken_breast, cream_of_mushroom_soup,...   \n",
       "4   [peanut_butter, graham_cracker_crumb, butter, ...   \n",
       "9   [pineapple, condensed_milk, lemon, pecan, grah...   \n",
       "12                   [chicken, flour, barbecue_sauce]   \n",
       "14  [pie_filling, pineapple, condensed_milk, lemon...   \n",
       "\n",
       "                                           embeddings  num_ingredients  \\\n",
       "1   [[-0.33506337, 0.08803183, -0.24923237, 0.0341...                4   \n",
       "4   [[-0.17900778, -0.039890748, -0.13081385, 0.30...                5   \n",
       "9   [[0.16943195, -0.31285393, -0.23219007, 0.1775...                5   \n",
       "12  [[-0.22679155, 0.100118645, 0.10348936, 0.2072...                3   \n",
       "14  [[-0.021126581, 0.1452302, -0.09510492, -0.035...                4   \n",
       "\n",
       "          start_ingredient  \n",
       "1   cream_of_mushroom_soup  \n",
       "4           powdered_sugar  \n",
       "9                    lemon  \n",
       "12                   flour  \n",
       "14               pineapple  "
      ]
     },
     "execution_count": 17,
     "metadata": {},
     "output_type": "execute_result"
    }
   ],
   "source": [
    "verify_data.head()"
   ]
  },
  {
   "cell_type": "code",
   "execution_count": null,
   "metadata": {},
   "outputs": [],
   "source": []
  }
 ],
 "metadata": {
  "kernelspec": {
   "display_name": "Python 3",
   "language": "python",
   "name": "python3"
  },
  "language_info": {
   "codemirror_mode": {
    "name": "ipython",
    "version": 3
   },
   "file_extension": ".py",
   "mimetype": "text/x-python",
   "name": "python",
   "nbconvert_exporter": "python",
   "pygments_lexer": "ipython3",
   "version": "3.8.3"
  }
 },
 "nbformat": 4,
 "nbformat_minor": 4
}
